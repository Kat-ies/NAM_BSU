{
 "cells": [
  {
   "cell_type": "code",
   "execution_count": 5,
   "metadata": {},
   "outputs": [
    {
     "name": "stdout",
     "output_type": "stream",
     "text": [
      "погрешность при еps = 10**-4 \n",
      "1.4923404591110634e-06\n",
      "62\n",
      "погрешность при еps = 10**-6 \n",
      "8.678746075962973e-08\n",
      "126\n",
      "погрешность при еps = 10**-8 \n",
      "3.311191598687202e-10\n",
      "510\n",
      "погрешность НАСТ = \n",
      "2.6233215295046186e-06\n",
      "5\n"
     ]
    }
   ],
   "source": [
    "import numpy as np\n",
    "from math import *\n",
    "\n",
    "I = -0.0738937049447472783 #Значение полученное через Wolfram\n",
    "a=-1\n",
    "b=1\n",
    "global iterations\n",
    "\n",
    "#подыинтегральная ф-ия\n",
    "def f(x):\n",
    "     return cos(5-sin(exp(x**5)))* x**2\n",
    "\n",
    "#весовая функция\n",
    "def p(x):\n",
    "    return (1-x)**3 * (1+x)**2\n",
    "\n",
    "\n",
    "#формула правых прямоугольников\n",
    "def right_rect(h):\n",
    "    sum = 0\n",
    "    for x in np.arange(a+h/2, b , h):\n",
    "        sum +=  f(x) * p(x) * h\n",
    "        global iterations\n",
    "        iterations += 1\n",
    "    return sum\n",
    "\n",
    "\n",
    "def cacl_integral(eps):\n",
    "    global iterations \n",
    "    iterations=0\n",
    "    \n",
    "    prev = 0\n",
    "    cur = right_rect(0.9)\n",
    "    step = 1\n",
    "    runge_delta = abs(cur - prev) / 3\n",
    "    while (runge_delta > eps):\n",
    "        step = step / 2\n",
    "        prev = cur\n",
    "        cur = right_rect(step)\n",
    "        runge_delta = abs(cur - prev) / 3\n",
    "    return cur\n",
    "\n",
    "eps=10**-4\n",
    "print('погрешность при еps = 10**-4 ')\n",
    "print(abs(cacl_integral(eps)-I))\n",
    "print(iterations)\n",
    "\n",
    "eps=10**-6\n",
    "print('погрешность при еps = 10**-6 ')\n",
    "print(abs(cacl_integral(eps)-I))\n",
    "print(iterations)\n",
    "\n",
    "eps=10**-8\n",
    "print('погрешность при еps = 10**-8 ')\n",
    "print(abs(cacl_integral(eps)-I))\n",
    "print(iterations)\n",
    "\n",
    "\n",
    "A=[0.0274101780663371, 0.212917860603648, 0.439084379443951, 0.322206565472218, 0.0650476830805123]\n",
    "x=[0.690457750126761,0.326519931349001,-0.0823378495520349,-0.475178870612832,-0.792794294644229]\n",
    "\n",
    "Q=0\n",
    "iterations=0\n",
    "for i in range (5):\n",
    "    Q+=f(x[i])*A[i]\n",
    "    iterations+=1\n",
    "    \n",
    "print('погрешность НАСТ = ')\n",
    "print(abs(Q-I))\n",
    "print(iterations)"
   ]
  },
  {
   "cell_type": "code",
   "execution_count": null,
   "metadata": {},
   "outputs": [],
   "source": []
  }
 ],
 "metadata": {
  "kernelspec": {
   "display_name": "Python 3",
   "language": "python",
   "name": "python3"
  },
  "language_info": {
   "codemirror_mode": {
    "name": "ipython",
    "version": 3
   },
   "file_extension": ".py",
   "mimetype": "text/x-python",
   "name": "python",
   "nbconvert_exporter": "python",
   "pygments_lexer": "ipython3",
   "version": "3.8.5"
  }
 },
 "nbformat": 4,
 "nbformat_minor": 2
}
